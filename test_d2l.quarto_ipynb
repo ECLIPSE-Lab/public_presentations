{
  "cells": [
    {
      "cell_type": "code",
      "metadata": {},
      "source": [
        "import sys\n",
        "print(\"Python path:\", sys.path)\n",
        "try:\n",
        "    from d2l import torch as d2l\n",
        "    print(\"Successfully imported d2l\")\n",
        "except ImportError as e:\n",
        "    print(\"Error importing d2l:\", str(e))"
      ],
      "id": "6ba8be25",
      "execution_count": null,
      "outputs": []
    }
  ],
  "metadata": {
    "kernelspec": {
      "name": "python3",
      "language": "python",
      "display_name": "Python 3 (ipykernel)",
      "path": "/usr/share/jupyter/kernels/python3"
    }
  },
  "nbformat": 4,
  "nbformat_minor": 5
}