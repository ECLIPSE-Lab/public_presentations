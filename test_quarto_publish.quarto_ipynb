{
  "cells": [
    {
      "cell_type": "markdown",
      "metadata": {},
      "source": [
        "---\n",
        "format: html\n",
        "execute: \n",
        "  eval: true\n",
        "  echo: true\n",
        "---"
      ],
      "id": "87be30a4"
    },
    {
      "cell_type": "code",
      "metadata": {},
      "source": [
        "import sys\n",
        "import os\n",
        "print(\"Python executable:\", sys.executable)\n",
        "print(\"Python path:\", sys.path)\n",
        "print(\"Environment variables:\")\n",
        "for key in ['CONDA_PREFIX', 'VIRTUAL_ENV', 'PYTHONPATH']:\n",
        "    print(f\"{key}:\", os.environ.get(key, \"Not set\"))"
      ],
      "id": "6d90ff63",
      "execution_count": null,
      "outputs": []
    }
  ],
  "metadata": {
    "kernelspec": {
      "name": "python3",
      "language": "python",
      "display_name": "Python 3 (ipykernel)",
      "path": "/usr/share/jupyter/kernels/python3"
    }
  },
  "nbformat": 4,
  "nbformat_minor": 5
}