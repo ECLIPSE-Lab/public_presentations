{
  "cells": [
    {
      "cell_type": "code",
      "metadata": {},
      "source": [
        "import sys\n",
        "print(sys.executable)\n",
        "print(sys.path)"
      ],
      "id": "36f1a7a8",
      "execution_count": null,
      "outputs": []
    }
  ],
  "metadata": {
    "kernelspec": {
      "name": "python3",
      "language": "python",
      "display_name": "Python 3 (ipykernel)",
      "path": "/usr/share/jupyter/kernels/python3"
    }
  },
  "nbformat": 4,
  "nbformat_minor": 5
}